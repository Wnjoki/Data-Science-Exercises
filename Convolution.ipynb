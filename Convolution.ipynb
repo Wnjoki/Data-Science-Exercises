{
  "nbformat": 4,
  "nbformat_minor": 0,
  "metadata": {
    "colab": {
      "provenance": [],
      "authorship_tag": "ABX9TyO+Pht79btAfe13JJchlaeH",
      "include_colab_link": true
    },
    "kernelspec": {
      "name": "python3",
      "display_name": "Python 3"
    },
    "language_info": {
      "name": "python"
    }
  },
  "cells": [
    {
      "cell_type": "markdown",
      "metadata": {
        "id": "view-in-github",
        "colab_type": "text"
      },
      "source": [
        "<a href=\"https://colab.research.google.com/github/Wnjoki/Data-Science-Exercises/blob/main/Convolution.ipynb\" target=\"_parent\"><img src=\"https://colab.research.google.com/assets/colab-badge.svg\" alt=\"Open In Colab\"/></a>"
      ]
    },
    {
      "cell_type": "code",
      "execution_count": 2,
      "metadata": {
        "id": "eV9hufIC-9DU"
      },
      "outputs": [],
      "source": [
        "import numpy as np"
      ]
    },
    {
      "cell_type": "code",
      "source": [
        "# Define the grayscale image I of dimension 5x5 \n",
        "I = np.array([\n",
        "    [13, 10, 15, 12, 8],\n",
        "    [9, 11, 10, 5, 6],\n",
        "    [45, 21, 16, 74, 50],\n",
        "    [11, 33, 24, 48, 5],\n",
        "    [61, 71, 82, 45, 3]\n",
        "])\n",
        "\n",
        "#Define the sobel-filter Gx and Gx \n",
        "\n",
        "Gx = np.array([ \n",
        "    [1, 0, -1],\n",
        "    [2, 0, -2],\n",
        "    [1, 0, -1]\n",
        "])\n",
        "\n",
        " \n",
        "\n",
        "Gy = np.array([\n",
        "    [1, 2, 1],\n",
        "    [0, 0, 0],\n",
        "    [-1, -2, -1]\n",
        "])\n",
        "\n"
      ],
      "metadata": {
        "id": "a-dqwaUV__PH"
      },
      "execution_count": 3,
      "outputs": []
    },
    {
      "cell_type": "code",
      "source": [
        "#perform the convolution with Gx and Gy\n",
        "from scipy.signal import convolve2d\n",
        "\n",
        "Ix = convolve2d(I, Gx, mode='valid')\n",
        "Iy = convolve2d(I, Gy, mode='valid')\n"
      ],
      "metadata": {
        "id": "LcyryJcVBPJH"
      },
      "execution_count": 4,
      "outputs": []
    },
    {
      "cell_type": "code",
      "source": [
        "# Perform max pooling \n",
        "pooling_size = 2\n",
        "stride = 1\n",
        "\n",
        "pooled_Ix = np.zeros((3, 3))\n",
        "pooled_Iy = np.zeros((3, 3))\n",
        "\n",
        "for i in range(0, Ix.shape[0] - pooling_size + 1, stride):\n",
        "    for j in range(0, Ix.shape[1] - pooling_size + 1, stride):\n",
        "        pooled_Ix[i//stride, j//stride] = np.max(Ix[i:i+pooling_size, j:j+pooling_size])\n",
        "        pooled_Iy[i//stride, j//stride] = np.max(Iy[i:i+pooling_size, j:j+pooling_size])\n"
      ],
      "metadata": {
        "id": "0EMchqSeCrP4"
      },
      "execution_count": 5,
      "outputs": []
    },
    {
      "cell_type": "code",
      "source": [
        "\n",
        "# Print the results\n",
        "print(\"Grayscale Image I:\\n\", I)\n",
        "print(\"\\nIx (After Sobel filter and convolution):\\n\", Ix)\n",
        "print(\"\\nIy (After Sobel filter and convolution):\\n\", Iy)\n",
        "print(\"\\nPooled Ix:\\n\", pooled_Ix)\n",
        "print(\"\\nPooled Iy:\\n\", pooled_Iy)"
      ],
      "metadata": {
        "colab": {
          "base_uri": "https://localhost:8080/"
        },
        "id": "QytQ8Vo_Cwa4",
        "outputId": "0428eef6-abe4-4a66-edc6-861fb602792b"
      },
      "execution_count": 6,
      "outputs": [
        {
          "output_type": "stream",
          "name": "stdout",
          "text": [
            "Grayscale Image I:\n",
            " [[13 10 15 12  8]\n",
            " [ 9 11 10  5  6]\n",
            " [45 21 16 74 50]\n",
            " [11 33 24 48  5]\n",
            " [61 71 82 45  3]]\n",
            "\n",
            "Ix (After Sobel filter and convolution):\n",
            " [[-25  43  19]\n",
            " [-44 115  45]\n",
            " [ 18  57 -83]]\n",
            "\n",
            "Iy (After Sobel filter and convolution):\n",
            " [[ 55  75 167]\n",
            " [ 60  93  99]\n",
            " [182 153 -39]]\n",
            "\n",
            "Pooled Ix:\n",
            " [[115. 115.   0.]\n",
            " [115. 115.   0.]\n",
            " [  0.   0.   0.]]\n",
            "\n",
            "Pooled Iy:\n",
            " [[ 93. 167.   0.]\n",
            " [182. 153.   0.]\n",
            " [  0.   0.   0.]]\n"
          ]
        }
      ]
    }
  ]
}